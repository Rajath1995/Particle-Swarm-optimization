{
 "cells": [
  {
   "cell_type": "markdown",
   "metadata": {},
   "source": [
    "# Packages Needed.\n",
    "\n",
    "Below are some of the inbuilt packages which are used.\n",
    "\n",
    "1. Numpy - To use to create Arrays.\n",
    "2. Random - To generate random numbers.\n",
    "3. Math - to use certain inbuilt functions like pi, cos, square root.\n",
    "4. mathplot lib - To create Graphs."
   ]
  },
  {
   "cell_type": "code",
   "execution_count": 458,
   "metadata": {},
   "outputs": [],
   "source": [
    "import numpy as np\n",
    "from random import random\n",
    "from math import sin, sqrt\n",
    "import pandas as pd\n",
    "import math\n",
    "from random import random\n",
    "import copy\n",
    "import matplotlib.pyplot\n",
    "from matplotlib.pyplot import figure"
   ]
  },
  {
   "cell_type": "markdown",
   "metadata": {},
   "source": [
    "# Fitness function dejong.\n",
    "\n",
    "function [y,grad]=dejong(x)\n",
    "\n",
    "    1. % this is an arbitrarily dimensioned function\n",
    "    2. % input: x - n x d input matrix (n d-dimensional vectors)\n",
    "    3. % global min is at x = [0,0,...,0]\n",
    "    4. y = sum(x.^2,2);grad = 2.*x;"
   ]
  },
  {
   "cell_type": "code",
   "execution_count": 185,
   "metadata": {},
   "outputs": [],
   "source": [
    "def dejong(x):\n",
    "    y=sum(np.power(x, 2))\n",
    "    grad=np.array(x) * 2\n",
    "    return y"
   ]
  },
  {
   "cell_type": "markdown",
   "metadata": {},
   "source": [
    "# Fitness Function Ackley\n",
    "Equivalent Matlab code and below I have converted to Python Equivalent.\n",
    "\n",
    "function [y]=ackley(x)\n",
    "1. % this is an arbitrarily dimensioned function\n",
    "2. % input: x - n x d input matrix (n d-dimensional vectors)\n",
    "3. % global min is at x = [0,0,...,0]\n",
    "4. a = 20; b = 0.2; c = 2*pi;\n",
    "5. [n,d]=size(x);\n",
    "6. y = -a*exp(-b*sqrt(1/d*sum(x.^2,2)))-exp(1/d*sum(cos(c*x),2))+a+exp(1);"
   ]
  },
  {
   "cell_type": "code",
   "execution_count": 487,
   "metadata": {},
   "outputs": [],
   "source": [
    "def ackley(x):\n",
    "    firstSum = 0.0\n",
    "    secondSum = 0.0\n",
    "    for c in x:\n",
    "        firstSum += c**2.0\n",
    "        secondSum += math.cos(2.0*math.pi*c)\n",
    "    n = float(len(x))\n",
    "    return -20.0*math.exp(-0.2*math.sqrt(firstSum/n)) - math.exp(secondSum/n) + 20 + math.e"
   ]
  },
  {
   "cell_type": "markdown",
   "metadata": {},
   "source": [
    "# function [y,grad]=rastrigin(x)\n",
    "Equivalent Matlab code and below I have converted to Python Equivalent.\n",
    "1. % this is an arbitrarily dimensioned function\n",
    "2. % input: x - n x d input matrix (n d-dimensional vectors)\n",
    "3. % global min is at x = [0,0,...,0]\n",
    "4. [n,d]=size(x);\n",
    "5. y = 10*d + sum(x.^2-10*cos(2*pi*x),2);\n",
    "6. grad = 2.*x + 20*pi*sin(2*pi*x);"
   ]
  },
  {
   "cell_type": "code",
   "execution_count": 323,
   "metadata": {},
   "outputs": [],
   "source": [
    "def rastrigin(x):\n",
    "    sum=0\n",
    "    for i in range(0,len(x)):\n",
    "        sum+=(x[i]**2-10*np.cos(2*np.pi*x[i]))\n",
    "    sum+=10*len(x)\n",
    "    return sum"
   ]
  },
  {
   "cell_type": "markdown",
   "metadata": {},
   "source": [
    "# function [y]=branins(x)\n",
    "Equivalent Matlab code and below I have converted to Python Equivalent.\n",
    "1. this is a 2-dimensional function\n",
    "2. input: x - n x 2 input matrix (n 2-dimensional vectors)\n",
    "3. 3 global mins\n",
    "4. (-pi, 12.275), (pi, 2.275), and (9.42478, 2.475)\n",
    "5. usually evaluated on x1 in [-5,10] and x2 in [0,15]\n",
    "6. a = 1; b = 5.1/(4*pi^2); c = 5/pi; d = 6; e = 10; f = 1/(8*pi);\n",
    "7. y = a*(x(:,2)-b*x(:,1).^2+c*x(:,1)-d).^2 + e*(1-f)*cos(x(:,1))+e;"
   ]
  },
  {
   "cell_type": "code",
   "execution_count": 490,
   "metadata": {},
   "outputs": [],
   "source": [
    "def branins(x):\n",
    "    a=1\n",
    "    b=5.1/(4*np.pi**2)\n",
    "    c=5/np.pi\n",
    "    d=6\n",
    "    e=10\n",
    "    f=1/(8*np.pi)\n",
    "    y=a*(x[i]-b*x[0]**2+c*x[0]-d)**2+e*(1-f)*np.cos(x[0])+e\n",
    "    return y"
   ]
  },
  {
   "cell_type": "markdown",
   "metadata": {},
   "source": [
    "# function [y]=rosenbrock(x)\n",
    "Equivalent Matlab code and below I have converted to Python Equivalent.\n",
    "1. this is an arbitrarily dimensioned function\n",
    "2. input: x - n x d input matrix (n d-dimensional vectors)\n",
    "3. global min is at x = [1,1,...,1]\n",
    "4. y = sum(100*(x(:,2:end)-x(:,1:end-1).^2).^2+(x(:,1:end-1)-1).^2,2);"
   ]
  },
  {
   "cell_type": "code",
   "execution_count": 492,
   "metadata": {},
   "outputs": [],
   "source": [
    "def rosenbrock(x):\n",
    "    y=(sum(100.0*(x[1:] - x[:-1]**2.0)**2.0 + (1 - x[:-1])**2.0))\n",
    "    return y"
   ]
  },
  {
   "cell_type": "markdown",
   "metadata": {},
   "source": [
    "# Population.\n",
    "\n",
    "Random Population for Given N dimensions."
   ]
  },
  {
   "cell_type": "code",
   "execution_count": 135,
   "metadata": {},
   "outputs": [],
   "source": [
    "def get_population_matrix(low,high,dimensions,pop_size):\n",
    "    particles = np.array([])\n",
    "    particles = np.random.uniform(low,high,size=(pop_size, dimensions))\n",
    "    return particles"
   ]
  },
  {
   "cell_type": "markdown",
   "metadata": {},
   "source": [
    "# Algorithm\n",
    "\n",
    "The Algorithm Psuedo Code \n",
    "\n",
    "For each particle in swarm\n",
    "\tInitialize the particle position, fitness, best fitness, position in dictionary\n",
    "End\n",
    "While Iterations<100\n",
    "\tFor each particle \n",
    "\t     Calculate fitness value \n",
    "                 If the fitness value is better than best fitness value \n",
    " \t     Set the current values as the new best fitness value\n",
    "           End\n",
    "Choosing the particle with best value as the global best \n",
    "For each particle \n",
    "\tCalculating the velocity from the above equation a\n",
    "\tUpdate the position of particle using eqn b\n",
    "End\n"
   ]
  },
  {
   "cell_type": "code",
   "execution_count": 494,
   "metadata": {},
   "outputs": [],
   "source": [
    "def myPSO(fitness_func,xrange,dim):\n",
    "    # Cognitive and Social Parameters are kept constant for all runs \n",
    "    c1=1.8\n",
    "    c2=2\n",
    "    #Population of swarm or The Particles is kept as 100\n",
    "    start_particles_size=0\n",
    "    end_particles_size=100\n",
    "    #Xrange is divided into both negative half and positive half.\n",
    "    low=-(xrange/2)\n",
    "    high=xrange/2\n",
    "    #Creating an empty Dictionary for Storing the indexes for Particles or swarm.\n",
    "    swarm = {'index': None,'v': None,'fitness': None,'fx_best': None,'f_best': None}\n",
    "    CostFunction = fitness_func\n",
    "    yaxis=np.arange(0, iter, 1)\n",
    "    global_bestarr=[]\n",
    "    # An array to Store the best index and fitness\n",
    "    global_best = {'index': None, 'fitness': np.inf}\n",
    "    particles = [];\n",
    "    #Keeping the momentum values constant at 0.22\n",
    "    momentum = 0.22\n",
    "    iteration = 0\n",
    "    # Creating the population finding the best Fitness if higher than the previous element then replace with the new fitness\n",
    "    for element in range(start_particles_size, end_particles_size):\n",
    "        particles += [copy.deepcopy(swarm)];\n",
    "        particles[element]['index'] = np.random.uniform(low, high, dim);\n",
    "        particles[element]['v'] = np.zeros(dim);\n",
    "        particles[element]['fitness'] = CostFunction(particles[element]['index']);\n",
    "        particles[element]['fx_best'] = copy.deepcopy(particles[element]['index']);\n",
    "        particles[element]['f_best'] = particles[element]['fitness'];\n",
    "        if particles[element]['f_best'] < global_best['fitness']:\n",
    "            global_best['index'] = copy.deepcopy(particles[element]['fx_best']);\n",
    "            global_best['fitness'] = particles[element]['f_best'];\n",
    "    #running the algorithm for 100 iterations that is the stopping criteria.\n",
    "    while(iteration < 100):\n",
    "        for element in range(start_particles_size, end_particles_size):\n",
    "           #vid=wvid+c1rand () pid−xid () +c2rand () pgd−xid () Below is this equation.\n",
    "            particles[element]['v'] = momentum*particles[element]['v'] + c1*np.random.rand(dim)*(particles[element]['fx_best'] - particles[element]['index']) + c2*np.random.rand(dim)*(global_best['index'] - particles[element]['index']);\n",
    "            #xid=xid+vid\n",
    "            particles[element]['index'] += particles[element]['v'];\n",
    "            particles[element]['index'] = np.maximum(particles[element]['index'], low);\n",
    "            particles[element]['index'] = np.minimum(particles[element]['index'], high);\n",
    "\n",
    "            particles[element]['fitness'] = CostFunction(particles[element]['index']);\n",
    "           \n",
    "            if particles[element]['fitness'] < particles[element]['f_best']:\n",
    "                particles[element]['fx_best'] = copy.deepcopy(particles[element]['index']);\n",
    "                particles[element]['f_best'] = particles[element]['fitness'];\n",
    "\n",
    "                if particles[element]['f_best'] < global_best['fitness']:\n",
    "                    global_best['index'] = copy.deepcopy(particles[element]['fx_best']);\n",
    "                    global_best['fitness'] = particles[element]['f_best'];\n",
    "        momentum *= 0.995;\n",
    "        global_bestarr += [global_best['fitness']]\n",
    "        iteration += 1\n",
    "       \n",
    "    ax=plt.axes()\n",
    "    plt.title('Squared Error VS Iteration')\n",
    "    plt.ylabel('Squared Error')\n",
    "    plt.xlabel('iteration')\n",
    "    ax.grid(which='both')\n",
    "    ax.plot(yaxis,global_bestarr)\n",
    "    return global_best, particles;"
   ]
  },
  {
   "cell_type": "markdown",
   "metadata": {},
   "source": [
    "# Calling the Main Function\n",
    "\n",
    "The inputs to the mypso are \n",
    "\n",
    "1. Benchmark functions\n",
    "    a. Dejong.\n",
    "    b. Ackley.\n",
    "    c. Rastrigin.\n",
    "    d. Rosenbrock.\n",
    "    e. Branins.\n",
    "2. Xrange - The range of values to be searched in space.\n",
    "3. Dimensions - Represents the number of Dimensions in Search space."
   ]
  },
  {
   "cell_type": "code",
   "execution_count": 496,
   "metadata": {},
   "outputs": [
    {
     "name": "stdout",
     "output_type": "stream",
     "text": [
      "0.004987145362409704\n",
      "\n",
      "\n"
     ]
    },
    {
     "data": {
      "image/png": "[encoded data removed]",
      "text/plain": [
       "<Figure size 432x288 with 1 Axes>"
      ]
     },
     "metadata": {
      "needs_background": "light"
     },
     "output_type": "display_data"
    }
   ],
   "source": [
    "#Funcition Call.\n",
    "gbest,pop=myPSO(rosenbrock,50,3)\n",
    "print(gbest['fitness'])\n",
    "print('\\n')"
   ]
  }
 ],
 "metadata": {
  "kernelspec": {
   "display_name": "Python 3",
   "language": "python",
   "name": "python3"
  },
  "language_info": {
   "codemirror_mode": {
    "name": "ipython",
    "version": 3
   },
   "file_extension": ".py",
   "mimetype": "text/x-python",
   "name": "python",
   "nbconvert_exporter": "python",
   "pygments_lexer": "ipython3",
   "version": "3.7.3"
  }
 },
 "nbformat": 4,
 "nbformat_minor": 2
}
